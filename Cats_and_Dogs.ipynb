{
  "nbformat": 4,
  "nbformat_minor": 0,
  "metadata": {
    "colab": {
      "name": "Cats and Dogs.ipynb",
      "provenance": [],
      "collapsed_sections": [],
      "authorship_tag": "ABX9TyN5WB0ETrCnznRgJ4G1TIWD",
      "include_colab_link": true
    },
    "kernelspec": {
      "name": "python3",
      "display_name": "Python 3"
    },
    "accelerator": "GPU"
  },
  "cells": [
    {
      "cell_type": "markdown",
      "metadata": {
        "id": "view-in-github",
        "colab_type": "text"
      },
      "source": [
        "<a href=\"https://colab.research.google.com/github/AteevMishra/Animal-Detection-Dog-or-Cat-/blob/master/Cats_and_Dogs.ipynb\" target=\"_parent\"><img src=\"https://colab.research.google.com/assets/colab-badge.svg\" alt=\"Open In Colab\"/></a>"
      ]
    },
    {
      "cell_type": "code",
      "metadata": {
        "id": "T7imvFGxDGNI",
        "outputId": "a5f6127d-0f47-4716-c78a-631a4cd88c81",
        "colab": {
          "base_uri": "https://localhost:8080/",
          "height": 34
        }
      },
      "source": [
        "import tensorflow as tf\n",
        "print(tf.__version__)\n"
      ],
      "execution_count": null,
      "outputs": [
        {
          "output_type": "stream",
          "text": [
            "2.2.0-rc2\n"
          ],
          "name": "stdout"
        }
      ]
    },
    {
      "cell_type": "code",
      "metadata": {
        "id": "8Fy1bsjUGYy2",
        "outputId": "40381064-a161-4c6a-8c03-941e0c341b1c",
        "colab": {
          "base_uri": "https://localhost:8080/",
          "height": 269
        }
      },
      "source": [
        "import numpy as np\n",
        "import matplotlib.pyplot as plt\n",
        "import cv2\n",
        "import os\n",
        "import random\n",
        "import time\n",
        "import tensorflow as tf\n",
        "from tensorflow.keras.preprocessing.image import ImageDataGenerator \n",
        "from tensorflow.keras.models import Sequential\n",
        "from tensorflow.keras.layers import Dropout,Dense,Activation,Flatten,Conv2D,MaxPooling2D\n",
        "from tensorflow.keras.callbacks import TensorBoard\n",
        "\n",
        "#NAME = 'Cats-vs-dog-cnn-64x2-{}'.format(int(time.time())) --This is for tensorboard************\n",
        "#tensorboard = TensorBoard(log_dir = 'logs\\{}'.format(NAME)) #callback\n",
        "#gpu_options = tf.GPUOptions(per_process_gpu_memory_fraction = 0.333)\n",
        "#sess = tf.Session(config = tf.ConfigProto(gpu_options = gpu_options ))*************************\n",
        "\n",
        "#DATADIR = \"D:\\Ateev\\Kaggle\\Cats and Dogs\\dataset\\PetImages\"\n",
        "\n",
        "_URL = 'https://storage.googleapis.com/mledu-datasets/cats_and_dogs_filtered.zip'\n",
        "path_to_zip = tf.keras.utils.get_file('cats_and_dogs.zip', origin=_URL, extract=True)\n",
        "PATH = os.path.join(os.path.dirname(path_to_zip), 'cats_and_dogs_filtered')\n",
        "DATADIR = os.path.join(PATH,'train')\n",
        "CATEGORIES = [\"dogs\",\"cats\"]\n",
        "\n",
        "training_data = []\n",
        "\n",
        "def create_training_data():\n",
        "    for category in CATEGORIES:\n",
        "        path = os.path.join(DATADIR,category) #--path to cats or dogs dir\n",
        "        class_num = CATEGORIES.index(category)\n",
        "        for img in os.listdir(path):\n",
        "            try:   #--We are using 'try' because some image might be broken\n",
        "                img_array = cv2.imread(os.path.join(path,img), 0)#--instead of '0' you can also write -> cv2.IMREAD_GRAYSCALE)\n",
        "                #plt.imshow(img_array,cmap = \"gray\")\n",
        "                #plt.show()\n",
        "                #print(img_array)\n",
        "                #break\n",
        "                IMG_SIZE = 100\n",
        "                new_array = cv2.resize(img_array,(IMG_SIZE,IMG_SIZE))#--images are of different sizes so we need to make all of them of same size which is what we also call normalization of data\n",
        "                training_data.append([new_array,class_num])  #--appending data in the training set\n",
        "            except Exception as e:\n",
        "                pass\n",
        "\n",
        "create_training_data()\n",
        "#print(len(training_data))\n",
        "\n",
        "random.shuffle(training_data) #--Now we shuffle the data\n",
        "\n",
        "IMG_SIZE = 100\n",
        "X=[]\n",
        "Y=[]\n",
        "for features,label in training_data:\n",
        "    X.append(features)\n",
        "    Y.append(label)\n",
        "X = np.array(X).reshape(-1,IMG_SIZE,IMG_SIZE,1) #--'1' because grayscale ,for RGB it would have been '3'\n",
        "\n",
        "#--WE need to save our trainig data ,as we do not want to waste our time when we run the program again\n",
        "np.save('features.npy',X) #--SAVING\n",
        "#X=np.load('features.npy') <--LOADING\n",
        "np.save('labels.npy',Y)\n",
        "\n",
        "X=np.load('features.npy')\n",
        "Y=np.load('labels.npy')\n",
        "\n",
        "#before feeding the data into Neural Network we need to first 'normalise' the data\n",
        "X=X/255.0 #--Normalising using 'Scaling'\n",
        "\n",
        "model = Sequential()\n",
        "model.add(Conv2D(64,(3,3), input_shape = X.shape[1:]))#--Adding a convolution layer of 64 nodes,3x3 window\n",
        "model.add(Activation(\"relu\")) #--Adding activation layer\n",
        "model.add(MaxPooling2D(pool_size=(2,2))) #--pool size/window size = 2x2\n",
        "\n",
        "model.add(Conv2D(64,(3,3)))#--Adding a convolution layer of 64 nodes,3x3 window\n",
        "model.add(Activation(\"relu\")) #--Adding activation layer\n",
        "model.add(MaxPooling2D(pool_size=(2,2))) #--pool size/window size = 2x2\n",
        "\n",
        "model.add(Flatten())#--'Convolution layer' is 2D while 'Dense layer' is not ,so we need to flatten the data.This converts our 3D feature maps to 1D feature vector\n",
        "\n",
        "model.add(Dense(64)) #--Adding a dense layer of 64 nodes, for good measure\n",
        "model.add(Activation('relu'))\n",
        "\n",
        "model.add(Dense(1)) #--'Output Layer'\n",
        "model.add(Activation('sigmoid'))\n",
        "\n",
        "model.compile(loss=\"binary_crossentropy\", #--we could have used 'sparse_categorical_...' but we used 'binary_...' since we have 2 classes(dogs and cats) only\n",
        "              optimizer=\"adam\",           #gradient descent optimization algo\n",
        "              metrics=['accuracy'])\n",
        "\n",
        "model.fit(X, Y, batch_size=32, epochs=7, validation_split=0.1)#--There are many samples;batch size defines how many samples to feed into the network at a time. 'validation_split' is out of sample data =0.3 means 30%\n",
        "\n",
        "model.save('64x3-CNN.model')\n"
      ],
      "execution_count": null,
      "outputs": [
        {
          "output_type": "stream",
          "text": [
            "Epoch 1/7\n",
            "57/57 [==============================] - 1s 19ms/step - loss: 0.6903 - accuracy: 0.5233 - val_loss: 0.6849 - val_accuracy: 0.5800\n",
            "Epoch 2/7\n",
            "57/57 [==============================] - 1s 16ms/step - loss: 0.6556 - accuracy: 0.6300 - val_loss: 0.7107 - val_accuracy: 0.5650\n",
            "Epoch 3/7\n",
            "57/57 [==============================] - 1s 16ms/step - loss: 0.5804 - accuracy: 0.7033 - val_loss: 0.7319 - val_accuracy: 0.6000\n",
            "Epoch 4/7\n",
            "57/57 [==============================] - 1s 16ms/step - loss: 0.4790 - accuracy: 0.7783 - val_loss: 0.8187 - val_accuracy: 0.5900\n",
            "Epoch 5/7\n",
            "57/57 [==============================] - 1s 16ms/step - loss: 0.4102 - accuracy: 0.8256 - val_loss: 0.9980 - val_accuracy: 0.5600\n",
            "Epoch 6/7\n",
            "57/57 [==============================] - 1s 16ms/step - loss: 0.3187 - accuracy: 0.8689 - val_loss: 1.0002 - val_accuracy: 0.5700\n",
            "Epoch 7/7\n",
            "57/57 [==============================] - 1s 16ms/step - loss: 0.1924 - accuracy: 0.9328 - val_loss: 0.9850 - val_accuracy: 0.6750\n",
            "INFO:tensorflow:Assets written to: 64x3-CNN.model/assets\n"
          ],
          "name": "stdout"
        }
      ]
    },
    {
      "cell_type": "code",
      "metadata": {
        "id": "kzkomI7EIkyE",
        "outputId": "f08b9339-9f5d-43ad-9604-3513015d1aa7",
        "colab": {
          "base_uri": "https://localhost:8080/",
          "height": 34
        }
      },
      "source": [
        "from google.colab import drive\n",
        "drive.mount('/content/drive')"
      ],
      "execution_count": null,
      "outputs": [
        {
          "output_type": "stream",
          "text": [
            "Drive already mounted at /content/drive; to attempt to forcibly remount, call drive.mount(\"/content/drive\", force_remount=True).\n"
          ],
          "name": "stdout"
        }
      ]
    },
    {
      "cell_type": "code",
      "metadata": {
        "id": "qx9_IsHBM0Af",
        "outputId": "75f6cc94-792e-45f0-9cb0-0155126f2b51",
        "colab": {
          "base_uri": "https://localhost:8080/",
          "height": 67
        }
      },
      "source": [
        "!ls '/content/drive/My Drive'"
      ],
      "execution_count": null,
      "outputs": [
        {
          "output_type": "stream",
          "text": [
            " cat.jpg\t    download1.jpg  'Getting started.pdf'\n",
            "'Colab Notebooks'   download3.jpg   images.jpg\n",
            " dog.jpg\t    download.jpg    Untitled0.ipynb\n"
          ],
          "name": "stdout"
        }
      ]
    },
    {
      "cell_type": "code",
      "metadata": {
        "id": "CWRSuUuhXc3o",
        "outputId": "8f27d061-52a3-4a4d-d5ee-0533c59d7989",
        "colab": {
          "base_uri": "https://localhost:8080/",
          "height": 34
        }
      },
      "source": [
        "import tensorflow as tf\n",
        "import cv2\n",
        "filepath = \"/content/drive/My Drive/dog.jpg\"\n",
        "\n",
        "def prepare(filepath):\n",
        "  IMG_SIZE = 100\n",
        "  img_array = cv2.imread(filepath,0)\n",
        "\n",
        "  new_array = cv2.resize(img_array,(IMG_SIZE,IMG_SIZE))\n",
        "  return new_array.reshape(-1,IMG_SIZE,IMG_SIZE,1)\n",
        "\n",
        "model = tf.keras.models.load_model(\"64x3-CNN.model\")\n",
        "prediction = model.predict([prepare(filepath)])\n",
        "animal = ['Cat','Dog']\n",
        "print(CATEGORIES[int(prediction[0][0])])"
      ],
      "execution_count": null,
      "outputs": [
        {
          "output_type": "stream",
          "text": [
            "cats\n"
          ],
          "name": "stdout"
        }
      ]
    },
    {
      "cell_type": "code",
      "metadata": {
        "id": "VN2cN949YwZ8"
      },
      "source": [
        ""
      ],
      "execution_count": null,
      "outputs": []
    }
  ]
}